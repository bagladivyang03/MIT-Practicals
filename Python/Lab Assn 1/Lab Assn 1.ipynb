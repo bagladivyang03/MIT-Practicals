{
 "cells": [
  {
   "cell_type": "markdown",
   "id": "a71305a9",
   "metadata": {},
   "source": [
    "### Lab Assignment No. 1"
   ]
  },
  {
   "cell_type": "markdown",
   "id": "b2ebb313",
   "metadata": {},
   "source": [
    "### KeyWords"
   ]
  },
  {
   "cell_type": "code",
   "execution_count": 1,
   "id": "61a941fe",
   "metadata": {},
   "outputs": [
    {
     "name": "stdout",
     "output_type": "stream",
     "text": [
      "\n",
      "Here is a list of the Python keywords.  Enter any keyword to get more help.\n",
      "\n",
      "False               class               from                or\n",
      "None                continue            global              pass\n",
      "True                def                 if                  raise\n",
      "and                 del                 import              return\n",
      "as                  elif                in                  try\n",
      "assert              else                is                  while\n",
      "async               except              lambda              with\n",
      "await               finally             nonlocal            yield\n",
      "break               for                 not                 \n",
      "\n"
     ]
    }
   ],
   "source": [
    "help(\"keywords\")"
   ]
  },
  {
   "cell_type": "markdown",
   "id": "a2d0ce13",
   "metadata": {},
   "source": [
    "### Literals"
   ]
  },
  {
   "cell_type": "code",
   "execution_count": 2,
   "id": "e89ebf29",
   "metadata": {},
   "outputs": [
    {
     "name": "stdout",
     "output_type": "stream",
     "text": [
      "24 24.3 (2+3j)\n"
     ]
    }
   ],
   "source": [
    "x = 24\n",
    "y = 24.3\n",
    "z = 2+3j\n",
    "print(x, y, z)"
   ]
  },
  {
   "cell_type": "code",
   "execution_count": 4,
   "id": "b7dcec5c",
   "metadata": {},
   "outputs": [
    {
     "name": "stdout",
     "output_type": "stream",
     "text": [
      "python\n",
      "python\n",
      "geek \n",
      "           for \n",
      "               geeks\n"
     ]
    }
   ],
   "source": [
    "s = 'python'\n",
    "  \n",
    "# in double quotes\n",
    "t = \"python\"\n",
    "  \n",
    "# multi-line String\n",
    "m = '''geek \n",
    "           for \n",
    "               geeks'''\n",
    "  \n",
    "print(s)\n",
    "print(t)\n",
    "print(m)"
   ]
  },
  {
   "cell_type": "markdown",
   "id": "224601e0",
   "metadata": {},
   "source": [
    "### Comments in Python"
   ]
  },
  {
   "cell_type": "code",
   "execution_count": 5,
   "id": "4121bcc6",
   "metadata": {},
   "outputs": [],
   "source": [
    "# Single Line Comments"
   ]
  },
  {
   "cell_type": "code",
   "execution_count": 9,
   "id": "365ca0f3",
   "metadata": {},
   "outputs": [
    {
     "data": {
      "text/plain": [
       "'\\nDO NOT FORGET TO PROPERLY\\nINDENT THE  STARTING OF STRING \\nLITERALS WITHIN YOUR CODE! '"
      ]
     },
     "execution_count": 9,
     "metadata": {},
     "output_type": "execute_result"
    }
   ],
   "source": [
    "'''\n",
    "THIS IS A MULTILINE COMMENT\n",
    "USING STRING LITERALS!\n",
    "'''"
   ]
  },
  {
   "cell_type": "markdown",
   "id": "2550948e",
   "metadata": {},
   "source": [
    "### DocString"
   ]
  },
  {
   "cell_type": "code",
   "execution_count": 10,
   "id": "e3c4d7c0",
   "metadata": {},
   "outputs": [
    {
     "name": "stdout",
     "output_type": "stream",
     "text": [
      "Using __doc__:\n",
      "Demonstrates triple double quotes\n",
      "    docstrings and does nothing really.\n",
      "Using help:\n",
      "Help on function my_function in module __main__:\n",
      "\n",
      "my_function()\n",
      "    Demonstrates triple double quotes\n",
      "    docstrings and does nothing really.\n",
      "\n"
     ]
    }
   ],
   "source": [
    "def my_function():\n",
    "    '''Demonstrates triple double quotes\n",
    "    docstrings and does nothing really.'''\n",
    "   \n",
    "    return None\n",
    "  \n",
    "print(\"Using __doc__:\")\n",
    "print(my_function.__doc__)\n",
    "  \n",
    "print(\"Using help:\")\n",
    "help(my_function)"
   ]
  },
  {
   "cell_type": "markdown",
   "id": "a715ab60",
   "metadata": {},
   "source": [
    "### Indentation Error"
   ]
  },
  {
   "cell_type": "code",
   "execution_count": 11,
   "id": "86752a88",
   "metadata": {},
   "outputs": [
    {
     "ename": "IndentationError",
     "evalue": "expected an indented block (<ipython-input-11-0ce7dd5839d8>, line 3)",
     "output_type": "error",
     "traceback": [
      "\u001b[1;36m  File \u001b[1;32m\"<ipython-input-11-0ce7dd5839d8>\"\u001b[1;36m, line \u001b[1;32m3\u001b[0m\n\u001b[1;33m    print(i)\u001b[0m\n\u001b[1;37m    ^\u001b[0m\n\u001b[1;31mIndentationError\u001b[0m\u001b[1;31m:\u001b[0m expected an indented block\n"
     ]
    }
   ],
   "source": [
    "n = 10\n",
    "for i in range(0,n):\n",
    "print(i)"
   ]
  },
  {
   "cell_type": "markdown",
   "id": "1fa6ed78",
   "metadata": {},
   "source": [
    "### Print \"Hello World\""
   ]
  },
  {
   "cell_type": "code",
   "execution_count": 13,
   "id": "45b1e6c6",
   "metadata": {},
   "outputs": [
    {
     "name": "stdout",
     "output_type": "stream",
     "text": [
      "Hello World !\n"
     ]
    }
   ],
   "source": [
    "print(\"Hello World !\")"
   ]
  },
  {
   "cell_type": "markdown",
   "id": "c0d5e96d",
   "metadata": {},
   "source": [
    "### Single And Multi Line Statements"
   ]
  },
  {
   "cell_type": "code",
   "execution_count": 14,
   "id": "be224575",
   "metadata": {},
   "outputs": [
    {
     "name": "stdout",
     "output_type": "stream",
     "text": [
      "This is a trial code\n",
      "Welcome!!\n",
      "This is Jupter Notebook\n",
      "Assign 1\n"
     ]
    }
   ],
   "source": [
    "#single line statement\n",
    "print(\"This is a trial code\")\n",
    "#multi line statement\n",
    "print('''Welcome!!\n",
    "This is Jupter Notebook\n",
    "Assign 1''')"
   ]
  },
  {
   "cell_type": "code",
   "execution_count": null,
   "id": "670b8a57",
   "metadata": {},
   "outputs": [],
   "source": []
  }
 ],
 "metadata": {
  "kernelspec": {
   "display_name": "Python 3",
   "language": "python",
   "name": "python3"
  },
  "language_info": {
   "codemirror_mode": {
    "name": "ipython",
    "version": 3
   },
   "file_extension": ".py",
   "mimetype": "text/x-python",
   "name": "python",
   "nbconvert_exporter": "python",
   "pygments_lexer": "ipython3",
   "version": "3.8.8"
  }
 },
 "nbformat": 4,
 "nbformat_minor": 5
}
