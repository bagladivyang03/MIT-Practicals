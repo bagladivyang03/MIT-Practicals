{
 "cells": [
  {
   "cell_type": "markdown",
   "id": "115bcdb2",
   "metadata": {},
   "source": [
    "### Lab Assignment 3"
   ]
  },
  {
   "cell_type": "markdown",
   "id": "693929ca",
   "metadata": {},
   "source": [
    "### List"
   ]
  },
  {
   "cell_type": "code",
   "execution_count": 1,
   "id": "237d3984",
   "metadata": {},
   "outputs": [],
   "source": [
    "#List Creation\n",
    "my_list = []\n",
    "\n",
    "my_list = [1, 2, 3] # list of integers\n",
    "\n",
    "my_list1 = [1, \"Hello\", 3.4] # list with mixed data types\n",
    "\n",
    "my_list2 = [\"mouse\", [8, 4, 6], ['a']] # nested list"
   ]
  },
  {
   "cell_type": "code",
   "execution_count": 2,
   "id": "7ae03d71",
   "metadata": {},
   "outputs": [
    {
     "name": "stdout",
     "output_type": "stream",
     "text": [
      "1\n",
      "3\n",
      "8\n",
      "10\n",
      "Happy\n",
      "a\n",
      "1\n"
     ]
    }
   ],
   "source": [
    "#List indexing\n",
    "my_list = [1,2,3,4,5,6,7,8,9,10]\n",
    "\n",
    "print(my_list[0])\n",
    "\n",
    "print(my_list[2])\n",
    "\n",
    "print(my_list[7])\n",
    "\n",
    "print(my_list[-1])\n",
    "\n",
    "#Nested List Indexing\n",
    "n_list = [\"Happy\", [2, 0, 1, 5]]\n",
    "\n",
    "print(n_list[0])\n",
    "\n",
    "print(n_list[0][1])\n",
    "\n",
    "print(n_list[1][-2])\n",
    "\n",
    "#print(my_list[4.0]) #Erroneous code as only integer index is allowed"
   ]
  },
  {
   "cell_type": "code",
   "execution_count": 3,
   "id": "6ae12d2e",
   "metadata": {},
   "outputs": [
    {
     "name": "stdout",
     "output_type": "stream",
     "text": [
      "[1, 4, 6, 8]\n",
      "[7, 4, 6, 8]\n",
      "[7, 3, 5, 7]\n"
     ]
    }
   ],
   "source": [
    "#List editing\n",
    "#Correcting mistake values in a list\n",
    "my_list = [1, 4, 6, 8]\n",
    "\n",
    "print(my_list)\n",
    "\n",
    "# change the 1st item    \n",
    "my_list[0] = 7\n",
    "\n",
    "print(my_list)\n",
    "\n",
    "# change 2nd to 4th items\n",
    "my_list[1:4] = [3, 5, 7]  \n",
    "\n",
    "print(my_list)   "
   ]
  },
  {
   "cell_type": "code",
   "execution_count": 4,
   "id": "dece4bff",
   "metadata": {},
   "outputs": [
    {
     "name": "stdout",
     "output_type": "stream",
     "text": [
      "[1, 2, 5, 7]\n",
      "[1, 2, 5, 7, [1, 2, 3, 4, 5], 9, 11, 13]\n",
      "[1, 2, 5, 7, [1, 2, 3, 4, 5], 9, 11, 13, 9, 7, 5]\n",
      "['mylist', 'mylist', 'mylist']\n"
     ]
    }
   ],
   "source": [
    "#List Append, Extend and Concatenate\n",
    "my_list = [1, 2, 5]\n",
    "\n",
    "my_list.append(7) #Append\n",
    "\n",
    "print(my_list)\n",
    "\n",
    "my_list.append([1,2,3,4,5]) \n",
    "\n",
    "my_list.extend([9, 11, 13]) #Extend\n",
    "\n",
    "print(my_list)\n",
    "\n",
    "print(my_list + [9, 7, 5]) #Concatenate using +\n",
    "\n",
    "print(['mylist'] * 3)"
   ]
  },
  {
   "cell_type": "code",
   "execution_count": 5,
   "id": "55639162",
   "metadata": {},
   "outputs": [
    {
     "name": "stdout",
     "output_type": "stream",
     "text": [
      "[1, 2, 3, 4, 5, 6]\n",
      "[1, 2, 3, 4, 5, 6, 7, 8]\n"
     ]
    }
   ],
   "source": [
    "#insert() in list\n",
    "odd = [1,3,4,5,6]\n",
    "odd.insert(1,2)\n",
    "print(odd)\n",
    "\n",
    "odd[6:7] = [7, 8]\n",
    "print(odd)"
   ]
  },
  {
   "cell_type": "code",
   "execution_count": 6,
   "id": "f39cde0a",
   "metadata": {},
   "outputs": [
    {
     "name": "stdout",
     "output_type": "stream",
     "text": [
      "[1, 2, 4, 5, 6, 7, 8, 9, 10]\n",
      "[1, 7, 8, 9, 10]\n",
      "------------\n",
      "['d', 'v', 'y', 'a', 'n', 'g']\n",
      "v\n",
      "['d', 'y', 'a', 'n', 'g']\n",
      "g\n",
      "['d', 'y', 'a', 'n']\n",
      "[]\n"
     ]
    }
   ],
   "source": [
    "#Delete, Remove, Pop, Clear\n",
    "my_list = [1,2,3,4,5,6,7,8,9,10]\n",
    "\n",
    "del my_list[2] #Delete one list item\n",
    "\n",
    "print(my_list)\n",
    "\n",
    "del my_list[1:5] #Delete multiple list items\n",
    "\n",
    "print(my_list)\n",
    "\n",
    "#del my_list #Delete the entire list\n",
    "#print(my_list) #Erroneous code as the list is deleted\n",
    "\n",
    "print('------------')\n",
    "\n",
    "my_list = ['d','i','v','y','a','n','g']\n",
    "\n",
    "my_list.remove('i')\n",
    "\n",
    "print(my_list)\n",
    "\n",
    "print(my_list.pop(1))\n",
    "\n",
    "print(my_list)\n",
    "\n",
    "print(my_list.pop())\n",
    "\n",
    "print(my_list)\n",
    "\n",
    "my_list.clear()\n",
    "\n",
    "print(my_list)"
   ]
  },
  {
   "cell_type": "code",
   "execution_count": 7,
   "id": "81db554a",
   "metadata": {},
   "outputs": [
    {
     "name": "stdout",
     "output_type": "stream",
     "text": [
      "3\n",
      "2\n",
      "[0, 1, 2, 4, 5, 6, 7, 8, 8]\n",
      "[8, 8, 7, 6, 5, 4, 2, 1, 0]\n",
      "[0, 1, 2, 4, 5, 6, 7, 8, 8]\n"
     ]
    }
   ],
   "source": [
    "#Sort, Count, Reverse\n",
    "my_list = [2, 7, 5, 8, 1, 6, 0, 8, 4]\n",
    "\n",
    "print(my_list.index(8))\n",
    "\n",
    "print(my_list.count(8))\n",
    "\n",
    "my_list.sort()\n",
    "\n",
    "print(my_list)\n",
    "\n",
    "my_list.sort(reverse=True)\n",
    "\n",
    "print(my_list)\n",
    "\n",
    "my_list.reverse()\n",
    "\n",
    "print(my_list)"
   ]
  },
  {
   "cell_type": "code",
   "execution_count": 8,
   "id": "f76e023f",
   "metadata": {},
   "outputs": [
    {
     "name": "stdout",
     "output_type": "stream",
     "text": [
      "['t', 'h', 'o']\n",
      "['p']\n",
      "['n']\n",
      "['p', 'y', 't', 'h', 'o', 'n']\n"
     ]
    }
   ],
   "source": [
    "#List slicing in Python\n",
    "\n",
    "my_list = ['p','y','t','h','o','n']\n",
    "\n",
    "# elements 3rd to 5th\n",
    "print(my_list[2:5])\n",
    "\n",
    "# elements beginning to 4th\n",
    "print(my_list[:-5])\n",
    "\n",
    "# elements 6th to end\n",
    "print(my_list[5:])\n",
    "\n",
    "# elements beginning to end\n",
    "print(my_list[:])"
   ]
  },
  {
   "cell_type": "markdown",
   "id": "0469b1be",
   "metadata": {},
   "source": [
    "### Tuples"
   ]
  },
  {
   "cell_type": "code",
   "execution_count": 9,
   "id": "de9abc8c",
   "metadata": {},
   "outputs": [
    {
     "name": "stdout",
     "output_type": "stream",
     "text": [
      "('Divyang', 'Bagla', 'Python', 1, 2, 3, 4, 5)\n"
     ]
    }
   ],
   "source": [
    "my_tuple = ('Divyang','Bagla', 'Python', 1, 2, 3, 4, 5);\n",
    "\n",
    "print(my_tuple)"
   ]
  },
  {
   "cell_type": "code",
   "execution_count": 10,
   "id": "bb328f88",
   "metadata": {},
   "outputs": [
    {
     "name": "stdout",
     "output_type": "stream",
     "text": [
      "(50,)\n"
     ]
    }
   ],
   "source": [
    "#To write a tuple containing a single value you have to include a comma, even though there is only one value −\n",
    "tup1 = (50,);\n",
    "print(tup1)"
   ]
  },
  {
   "cell_type": "code",
   "execution_count": 11,
   "id": "708814c2",
   "metadata": {},
   "outputs": [
    {
     "name": "stdout",
     "output_type": "stream",
     "text": [
      "Divyang\n",
      "g\n"
     ]
    }
   ],
   "source": [
    "#Accesing Values in a Tuple\n",
    "print(my_tuple[0])\n",
    "print(my_tuple[1][2])"
   ]
  },
  {
   "cell_type": "code",
   "execution_count": 12,
   "id": "438f65bd",
   "metadata": {},
   "outputs": [
    {
     "name": "stdout",
     "output_type": "stream",
     "text": [
      "(1, 2, 3, 'abc', 'xyz', 'Divyang', 'Bagla', 'Python', 1, 2, 3, 4, 5)\n"
     ]
    }
   ],
   "source": [
    "#Update in Tuple\n",
    "my_tuple = ('Divyang','Bagla', 'Python', 1, 2, 3, 4, 5);\n",
    "tup1 = (1, 2, 3, 'abc', 'xyz');\n",
    "\n",
    "#tup1[0] = 100; #Erroneous code since updation is not valid for tuples\n",
    "\n",
    "# So let's create a new tuple as follows\n",
    "tup3 = tup1 + my_tuple\n",
    "print(tup3)"
   ]
  },
  {
   "cell_type": "code",
   "execution_count": 14,
   "id": "08b7673d",
   "metadata": {},
   "outputs": [
    {
     "name": "stdout",
     "output_type": "stream",
     "text": [
      "('Divyang', 'Python', 1, 2, 3, 4, 5)\n"
     ]
    }
   ],
   "source": [
    "#Delete and Remove\n",
    "my_tuple = ('Divyang', 'Python', 1, 2, 3, 4, 5)\n",
    "print(my_tuple)\n",
    "del my_tuple\n",
    "#print('After deleting my_tuple:')\n",
    "#print(my_tuple) #Erroneous code since tuple is deleted\n",
    "\n",
    "my_tuple1= (1,2,3,4,5,6,7)\n",
    "#my_tuple1.remove(2) #Erroneous code since tuple is immutable"
   ]
  },
  {
   "cell_type": "code",
   "execution_count": 15,
   "id": "7cfd090d",
   "metadata": {},
   "outputs": [
    {
     "data": {
      "text/plain": [
       "8"
      ]
     },
     "execution_count": 15,
     "metadata": {},
     "output_type": "execute_result"
    }
   ],
   "source": [
    "#Length of Tuple\n",
    "my_tuple = ('Divyang','Bagla', 'Python', 1, 2, 3, 4, 5)\n",
    "len(my_tuple)"
   ]
  },
  {
   "cell_type": "code",
   "execution_count": 16,
   "id": "00e7acc8",
   "metadata": {},
   "outputs": [
    {
     "name": "stdout",
     "output_type": "stream",
     "text": [
      "[1, 1, 2, 5, 6, 7, 9, 10]\n",
      "2\n"
     ]
    }
   ],
   "source": [
    "#Sort and Count\n",
    "my_tuple = (1, 5, 7, 1, 9, 10, 2, 6)\n",
    "#my_tuple.sort() #erroneous since sort() method doesnt work with immutable data types\n",
    "print(sorted(my_tuple)) #will return sorted list not a tuple\n",
    "print(my_tuple.count(1)) #will count number of 1's in the tuple"
   ]
  },
  {
   "cell_type": "code",
   "execution_count": 18,
   "id": "6741924b",
   "metadata": {},
   "outputs": [
    {
     "name": "stdout",
     "output_type": "stream",
     "text": [
      "True\n",
      "False\n",
      "False\n"
     ]
    }
   ],
   "source": [
    "#Membership test in tuple\n",
    "my_tuple = ('d','i','v','y','a','n','g')\n",
    "\n",
    "# In operation\n",
    "print('a' in my_tuple)\n",
    "print('b' in my_tuple)\n",
    "\n",
    "# Not in operation\n",
    "print('g' not in my_tuple)"
   ]
  },
  {
   "cell_type": "code",
   "execution_count": null,
   "id": "cf51a193",
   "metadata": {},
   "outputs": [],
   "source": []
  }
 ],
 "metadata": {
  "kernelspec": {
   "display_name": "Python 3",
   "language": "python",
   "name": "python3"
  },
  "language_info": {
   "codemirror_mode": {
    "name": "ipython",
    "version": 3
   },
   "file_extension": ".py",
   "mimetype": "text/x-python",
   "name": "python",
   "nbconvert_exporter": "python",
   "pygments_lexer": "ipython3",
   "version": "3.8.8"
  }
 },
 "nbformat": 4,
 "nbformat_minor": 5
}
