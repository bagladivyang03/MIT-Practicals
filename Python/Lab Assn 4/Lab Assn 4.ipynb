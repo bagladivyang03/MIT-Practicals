{
 "cells": [
  {
   "cell_type": "markdown",
   "id": "fcbae6aa",
   "metadata": {},
   "source": [
    "### Lab Assignment 4"
   ]
  },
  {
   "cell_type": "markdown",
   "id": "823ba652",
   "metadata": {},
   "source": [
    "### Sets"
   ]
  },
  {
   "cell_type": "code",
   "execution_count": 1,
   "id": "20b8882b",
   "metadata": {},
   "outputs": [
    {
     "name": "stdout",
     "output_type": "stream",
     "text": [
      "{1, 2, 3}\n",
      "{1.0, (1, 2, 3), 'Hello'}\n"
     ]
    }
   ],
   "source": [
    "#Set Creation\n",
    "my_set = {1, 2, 3}\n",
    "print(my_set)\n",
    "\n",
    "# set of mixed datatypes\n",
    "my_set1 = {1.0, \"Hello\", (1, 2, 3)}\n",
    "print(my_set1)"
   ]
  },
  {
   "cell_type": "code",
   "execution_count": 2,
   "id": "45890b8b",
   "metadata": {},
   "outputs": [
    {
     "name": "stdout",
     "output_type": "stream",
     "text": [
      "{1, 2, 3, 4}\n",
      "{1, 2, 3}\n"
     ]
    }
   ],
   "source": [
    "#Set cannot have duplicates\n",
    "my_set = {1, 2, 3, 4, 3, 2}\n",
    "print(my_set)\n",
    "\n",
    "my_set = set([1, 2, 3, 2]) #We can make set from a list\n",
    "print(my_set)\n",
    "\n",
    "#my_set1 = {1, 2, [3, 4]} #Erroneous Code as set cannot have mutable items. Here [3, 4] is a mutable list.\n",
    "#print(my_set1)"
   ]
  },
  {
   "cell_type": "code",
   "execution_count": 3,
   "id": "7a241233",
   "metadata": {},
   "outputs": [
    {
     "name": "stdout",
     "output_type": "stream",
     "text": [
      "<class 'dict'>\n",
      "<class 'set'>\n"
     ]
    }
   ],
   "source": [
    "#Distinguish set and dictionary while creating empty set\n",
    "#initialize a with {}\n",
    "a = {}\n",
    "\n",
    "#check data type of a\n",
    "print(type(a))\n",
    "\n",
    "#initialize a with set()\n",
    "a = set()\n",
    "\n",
    "#check data type of a\n",
    "print(type(a))"
   ]
  },
  {
   "cell_type": "code",
   "execution_count": 4,
   "id": "9c6a74d9",
   "metadata": {},
   "outputs": [
    {
     "name": "stdout",
     "output_type": "stream",
     "text": [
      "{1, 3}\n",
      "{1, 2, 3}\n",
      "{1, 2, 3, 4}\n",
      "{1, 2, 3, 4, 5, 6, 8}\n"
     ]
    }
   ],
   "source": [
    "#Modifying a Set: Add, Update.\n",
    "my_set = {1, 3}\n",
    "print(my_set)\n",
    "\n",
    "#my_set[0] #Erroneous Code: TypeError as 'set' object does not support indexing\n",
    "\n",
    "my_set.add(2) # add an element\n",
    "print(my_set)\n",
    "\n",
    "my_set.update([2, 3, 4]) # add multiple elements\n",
    "print(my_set)\n",
    "\n",
    "my_set.update([4, 5], {1, 6, 8}) # add list and set\n",
    "print(my_set)"
   ]
  },
  {
   "cell_type": "code",
   "execution_count": 5,
   "id": "d560db43",
   "metadata": {},
   "outputs": [
    {
     "name": "stdout",
     "output_type": "stream",
     "text": [
      "{1, 3, 4, 5, 6}\n",
      "{1, 3, 5, 6}\n",
      "{1, 3, 5}\n",
      "{1, 3, 5}\n"
     ]
    }
   ],
   "source": [
    "#Discard and Remove\n",
    "\n",
    "my_set = {1, 3, 4, 5, 6}\n",
    "print(my_set)\n",
    "\n",
    "my_set.discard(4) #Discard an element\n",
    "print(my_set)\n",
    "\n",
    "my_set.remove(6) #Remove an element\n",
    "print(my_set)\n",
    "\n",
    "my_set.discard(2) #Discard an element not present in my_set\n",
    "print(my_set)\n",
    "\n",
    "#my_set.remove(2) #Erroneous Code"
   ]
  },
  {
   "cell_type": "code",
   "execution_count": 6,
   "id": "29644e6f",
   "metadata": {},
   "outputs": [
    {
     "name": "stdout",
     "output_type": "stream",
     "text": [
      "{'e', 'd', 'r', 'W', 'H', 'l', 'o'}\n",
      "e\n",
      "{'r', 'W', 'H', 'l', 'o'}\n",
      "set()\n"
     ]
    }
   ],
   "source": [
    "#Pop and Clear\n",
    "my_set = set(\"HelloWorld\")\n",
    "print(my_set)\n",
    "\n",
    "print(my_set.pop()) # pop an element\n",
    "\n",
    "my_set.pop() # pop another element\n",
    "print(my_set)\n",
    "\n",
    "my_set.clear() # clear my_set\n",
    "print(my_set)"
   ]
  },
  {
   "cell_type": "code",
   "execution_count": 7,
   "id": "fecbf986",
   "metadata": {},
   "outputs": [
    {
     "name": "stdout",
     "output_type": "stream",
     "text": [
      "{1, 2, 3, 4, 5, 6, 7, 8}\n",
      "{1, 2, 3, 4, 5, 6, 7, 8}\n",
      "{4, 5}\n",
      "{4, 5}\n",
      "{1, 2, 3}\n",
      "{1, 2, 3}\n",
      "{1, 2, 3, 6, 7, 8}\n"
     ]
    },
    {
     "data": {
      "text/plain": [
       "False"
      ]
     },
     "execution_count": 7,
     "metadata": {},
     "output_type": "execute_result"
    }
   ],
   "source": [
    "#Set Operations\n",
    "\n",
    "A = {1, 2, 3, 4, 5}\n",
    "B = {4, 5, 6, 7, 8}\n",
    "\n",
    "print(A | B) #Set Union\n",
    "print(B.union(A))\n",
    "print(A & B) #Set Intersection\n",
    "print(A.intersection(B))\n",
    "print(A-B) #Set Difference\n",
    "print(A.difference(B))\n",
    "print(A ^ B) #Set Symmetric Difference\n",
    "\n",
    "A.isdisjoint(B) #To check for disjoint sets"
   ]
  },
  {
   "cell_type": "code",
   "execution_count": 8,
   "id": "3e247435",
   "metadata": {},
   "outputs": [
    {
     "name": "stdout",
     "output_type": "stream",
     "text": [
      "The frozen set is: frozenset({'u', 'e', 'a', 'i', 'o'})\n"
     ]
    }
   ],
   "source": [
    "#Frozen Set\n",
    "\n",
    "vowels = ('a', 'e', 'i', 'o', 'u') #Tuple of vowels\n",
    "\n",
    "fSet = frozenset(vowels)\n",
    "print('The frozen set is:', fSet)\n",
    "\n",
    "#fSet.add('v') #Erroneous Code as frozensets are immutable"
   ]
  },
  {
   "cell_type": "markdown",
   "id": "0c7c0333",
   "metadata": {},
   "source": [
    "### Dictionary"
   ]
  },
  {
   "cell_type": "code",
   "execution_count": 10,
   "id": "7fb736fc",
   "metadata": {},
   "outputs": [
    {
     "name": "stdout",
     "output_type": "stream",
     "text": [
      "{1: 'Divyang', 2: 'Bagla'}\n",
      "{'name': 'Python', 1: [2, 4, 3]}\n",
      "{1: 'Python', 2: 'Lab'}\n",
      "{1: 'Sets', 2: 'Dicts'}\n"
     ]
    }
   ],
   "source": [
    "#Dictionary Creation\n",
    "my_dict = {}\n",
    "\n",
    "my_dict = {1: 'Divyang', 2: 'Bagla'} # dictionary with integer keys\n",
    "\n",
    "my_dict1 = {'name': 'Python', 1: [2, 4, 3]} # dictionary with mixed keys\n",
    "\n",
    "my_dict2 = dict({1:'Python', 2:'Lab'}) # using dict()\n",
    "\n",
    "my_dict3 = dict([(1,'Sets'), (2,'Dicts')]) # from sequence having each item as a pair\n",
    "\n",
    "print(my_dict)\n",
    "print(my_dict1)\n",
    "print(my_dict2)\n",
    "print(my_dict3)"
   ]
  },
  {
   "cell_type": "code",
   "execution_count": 11,
   "id": "4e81d7cd",
   "metadata": {},
   "outputs": [
    {
     "name": "stdout",
     "output_type": "stream",
     "text": [
      "Divyang\n",
      "20\n",
      "None\n"
     ]
    }
   ],
   "source": [
    "#get vs [] for retrieving elements\n",
    "\n",
    "my_dict = {'firstname': 'Divyang', 'lastname': 'Bagla', 'age': 20} \n",
    "\n",
    "print(my_dict['firstname'])\n",
    "\n",
    "print(my_dict.get('age'))\n",
    "\n",
    "print(my_dict.get('address')) \n",
    "\n",
    "#print(my_dict['address']) #Erroneous Code: The address key doesn't exist."
   ]
  },
  {
   "cell_type": "code",
   "execution_count": 12,
   "id": "929cf715",
   "metadata": {},
   "outputs": [
    {
     "name": "stdout",
     "output_type": "stream",
     "text": [
      "{'firstname': 'Divyang', 'lastname': 'Bagla', 'age': 20}\n",
      "{'firstname': 'Divyang', 'lastname': 'Bagla', 'age': 24}\n",
      "{'firstname': 'Divyang', 'lastname': 'Bagla', 'age': 24, 'address': 'Downtown Los Angeles'}\n"
     ]
    }
   ],
   "source": [
    "#Changing and adding Dictionary Elements\n",
    "my_dict = {'firstname': 'Divyang', 'lastname': 'Bagla', 'age': 20} \n",
    "\n",
    "print(my_dict)\n",
    "\n",
    "my_dict['age'] = 24 #Update age value\n",
    "\n",
    "print(my_dict)\n",
    "\n",
    "my_dict['address'] = 'Downtown Los Angeles' #Add item\n",
    "\n",
    "print(my_dict)"
   ]
  },
  {
   "cell_type": "code",
   "execution_count": 13,
   "id": "4bf5f11c",
   "metadata": {},
   "outputs": [
    {
     "name": "stdout",
     "output_type": "stream",
     "text": [
      "16\n",
      "{1: 1, 2: 4, 3: 9, 5: 25}\n",
      "(5, 25)\n",
      "{1: 1, 2: 4, 3: 9}\n",
      "{}\n"
     ]
    }
   ],
   "source": [
    "#Removing elements from a dictionary\n",
    "\n",
    "squares= {1: 1, 2: 4, 3: 9, 4: 16, 5: 25}\n",
    "\n",
    "print(squares.pop(4)) #Remove a particular item, returns its value\n",
    "\n",
    "print(squares)\n",
    "\n",
    "print(squares.popitem()) #Remove an arbitrary item, return (key,value)\n",
    "\n",
    "print(squares)\n",
    "\n",
    "squares.clear() #Remove all items\n",
    "\n",
    "print(squares)\n",
    "\n",
    "del squares #Delete the entire dictionary \n",
    "\n",
    "#print(squares) #Erroneous code as dictionary doesnt exist."
   ]
  },
  {
   "cell_type": "code",
   "execution_count": 14,
   "id": "425b87e7",
   "metadata": {},
   "outputs": [
    {
     "name": "stdout",
     "output_type": "stream",
     "text": [
      "{1: 1, 2: 4, 3: 9, 4: 16, 5: 25, 6: 36, 7: 49, 8: 64, 9: 81, 10: 100}\n",
      "{1: 1, 2: 4, 3: 9, 4: 16, 5: 25, 6: 36, 7: 49, 8: 64, 9: 81, 10: 100}\n"
     ]
    }
   ],
   "source": [
    "square_dict = dict()\n",
    "for num in range(1, 11):\n",
    "    square_dict[num] = num*num\n",
    "print(square_dict)\n",
    "\n",
    "# Dictionary Comprehension\n",
    "squares = {x: x*x for x in range(1, 11)}\n",
    "\n",
    "print(squares)"
   ]
  },
  {
   "cell_type": "code",
   "execution_count": 15,
   "id": "f671f518",
   "metadata": {},
   "outputs": [
    {
     "name": "stdout",
     "output_type": "stream",
     "text": [
      "{'milk': 1.02, 'coffee': 2.5, 'bread': 2.5}\n",
      "{'milk': 0.7752, 'coffee': 1.9, 'bread': 1.9}\n"
     ]
    }
   ],
   "source": [
    "#2nd Example\n",
    "#item price in dollars\n",
    "old_price = {'milk': 1.02, 'coffee': 2.5, 'bread': 2.5}\n",
    "print(old_price)\n",
    "\n",
    "dollar_to_pound = 0.76\n",
    "new_price = {item: value*dollar_to_pound for (item, value) in old_price.items()}\n",
    "print(new_price)"
   ]
  },
  {
   "cell_type": "code",
   "execution_count": 16,
   "id": "ed3bd88d",
   "metadata": {},
   "outputs": [
    {
     "name": "stdout",
     "output_type": "stream",
     "text": [
      "{'jack': 38, 'michael': 48, 'guido': 57, 'john': 33}\n",
      "{'jack': 38, 'michael': 48}\n",
      "{'john': 33}\n",
      "{'jack': 'young', 'michael': 'old', 'guido': 'old', 'john': 'young'}\n"
     ]
    }
   ],
   "source": [
    "#3rd Example: Conditional Dictionary Comprehension\n",
    "\n",
    "original_dict = {'jack': 38, 'michael': 48, 'guido': 57, 'john': 33}\n",
    "print(original_dict)\n",
    "\n",
    "even_dict = {k: v for (k, v) in original_dict.items() if v % 2 == 0} #only the items with even value have been added, \n",
    "#because of the if clause in the dictionary comprehension.\n",
    "print(even_dict)\n",
    "\n",
    "new_dict = {k: v for (k, v) in original_dict.items() if v % 2 != 0 if v < 40} #only the items with an odd value \n",
    "#of less than 40 have been added to the new dictionary.\n",
    "print(new_dict)\n",
    "\n",
    "new_dict_1 = {k: ('old' if v > 40 else 'young')\n",
    "    for (k, v) in original_dict.items()}\n",
    "print(new_dict_1)\n"
   ]
  },
  {
   "cell_type": "code",
   "execution_count": null,
   "id": "578dafff",
   "metadata": {},
   "outputs": [],
   "source": []
  }
 ],
 "metadata": {
  "kernelspec": {
   "display_name": "Python 3",
   "language": "python",
   "name": "python3"
  },
  "language_info": {
   "codemirror_mode": {
    "name": "ipython",
    "version": 3
   },
   "file_extension": ".py",
   "mimetype": "text/x-python",
   "name": "python",
   "nbconvert_exporter": "python",
   "pygments_lexer": "ipython3",
   "version": "3.8.8"
  }
 },
 "nbformat": 4,
 "nbformat_minor": 5
}
