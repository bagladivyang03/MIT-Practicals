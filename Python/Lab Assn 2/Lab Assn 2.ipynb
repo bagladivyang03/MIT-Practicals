{
 "cells": [
  {
   "cell_type": "markdown",
   "id": "fab5de2f",
   "metadata": {},
   "source": [
    "### Lab Assignment 2"
   ]
  },
  {
   "cell_type": "markdown",
   "id": "1ea4e219",
   "metadata": {},
   "source": [
    "### Operators"
   ]
  },
  {
   "cell_type": "markdown",
   "id": "8a801bcb",
   "metadata": {},
   "source": [
    "#### Airthmetic Operators"
   ]
  },
  {
   "cell_type": "code",
   "execution_count": 25,
   "id": "59015933",
   "metadata": {},
   "outputs": [
    {
     "name": "stdout",
     "output_type": "stream",
     "text": [
      "15\n",
      "-5\n",
      "50\n",
      "0.5\n",
      "0\n",
      "5\n",
      "9765625\n"
     ]
    }
   ],
   "source": [
    "#Arithmetic Operators\n",
    "a = 5\n",
    "b = 10\n",
    "  \n",
    "# Addition of numbers \n",
    "add = a + b \n",
    "  \n",
    "# Subtraction of numbers \n",
    "sub = a - b \n",
    "  \n",
    "# Multiplication of number \n",
    "mul = a * b \n",
    "  \n",
    "# Division(float) of number \n",
    "div1 = a / b \n",
    "  \n",
    "# Division(floor) of number \n",
    "div2 = a // b \n",
    "  \n",
    "# Modulo of both number \n",
    "mod = a % b \n",
    "  \n",
    "# Power\n",
    "pow = a ** b\n",
    "  \n",
    "# print results \n",
    "print(add) \n",
    "print(sub) \n",
    "print(mul) \n",
    "print(div1) \n",
    "print(div2) \n",
    "print(mod)\n",
    "print(pow)"
   ]
  },
  {
   "cell_type": "markdown",
   "id": "4ecdc567",
   "metadata": {},
   "source": [
    "#### Relational Operators"
   ]
  },
  {
   "cell_type": "code",
   "execution_count": 26,
   "id": "e3ed14b7",
   "metadata": {},
   "outputs": [
    {
     "name": "stdout",
     "output_type": "stream",
     "text": [
      "True\n",
      "False\n",
      "False\n",
      "True\n",
      "True\n",
      "False\n"
     ]
    }
   ],
   "source": [
    "#Relational Operators\n",
    "a = 10\n",
    "b = 5\n",
    "  \n",
    "# a > b is False\n",
    "print(a > b)\n",
    "  \n",
    "# a < b is True\n",
    "print(a < b)\n",
    "  \n",
    "# a == b is False\n",
    "print(a == b)\n",
    "  \n",
    "# a != b is True\n",
    "print(a != b)\n",
    "  \n",
    "# a >= b is False\n",
    "print(a >= b)\n",
    "  \n",
    "# a <= b is True\n",
    "print(a <= b)"
   ]
  },
  {
   "cell_type": "markdown",
   "id": "f2d02290",
   "metadata": {},
   "source": [
    "#### Logical operators "
   ]
  },
  {
   "cell_type": "code",
   "execution_count": 27,
   "id": "087b85e6",
   "metadata": {},
   "outputs": [
    {
     "name": "stdout",
     "output_type": "stream",
     "text": [
      "False\n",
      "True\n",
      "False\n"
     ]
    }
   ],
   "source": [
    "#Logical Operators\n",
    "a = True\n",
    "b = False\n",
    "  \n",
    "# Print a and b is False\n",
    "print(a and b)\n",
    "  \n",
    "# Print a or b is True\n",
    "print(a or b)\n",
    "  \n",
    "# Print not a is False\n",
    "print(not a)"
   ]
  },
  {
   "cell_type": "markdown",
   "id": "642769f7",
   "metadata": {},
   "source": [
    "#### Bitwise operators"
   ]
  },
  {
   "cell_type": "code",
   "execution_count": 28,
   "id": "09c84646",
   "metadata": {},
   "outputs": [
    {
     "name": "stdout",
     "output_type": "stream",
     "text": [
      "0\n",
      "14\n",
      "-11\n",
      "14\n",
      "2\n",
      "40\n"
     ]
    }
   ],
   "source": [
    "#Bitwise operators\n",
    "a = 10\n",
    "b = 4\n",
    "  \n",
    "# Print bitwise AND operation  \n",
    "print(a & b)\n",
    "  \n",
    "# Print bitwise OR operation\n",
    "print(a | b)\n",
    "  \n",
    "# Print bitwise NOT operation \n",
    "print(~a)\n",
    "  \n",
    "# print bitwise XOR operation \n",
    "print(a ^ b)\n",
    "  \n",
    "# print bitwise right shift operation \n",
    "print(a >> 2)\n",
    "  \n",
    "# print bitwise left shift operation \n",
    "print(a << 2)"
   ]
  },
  {
   "cell_type": "markdown",
   "id": "831690d2",
   "metadata": {},
   "source": [
    "#### Special operators"
   ]
  },
  {
   "cell_type": "code",
   "execution_count": 29,
   "id": "ea0fa97e",
   "metadata": {},
   "outputs": [
    {
     "name": "stdout",
     "output_type": "stream",
     "text": [
      "False\n",
      "True\n",
      "False\n"
     ]
    }
   ],
   "source": [
    "#Identity operators\n",
    "a1 = 3\n",
    "b1 = 3\n",
    "a2 = 'Python'\n",
    "b2 = 'Python'\n",
    "a3 = [1,2,3]\n",
    "b3 = [1,2,3]\n",
    "  \n",
    "print(a1 is not b1)\n",
    "  \n",
    "print(a2 is b2)\n",
    "  \n",
    "# Output is False, since lists are mutable.\n",
    "print(a3 is b3)"
   ]
  },
  {
   "cell_type": "markdown",
   "id": "7f5ac593",
   "metadata": {},
   "source": [
    "#### Membership operators"
   ]
  },
  {
   "cell_type": "code",
   "execution_count": 36,
   "id": "3f8848c1",
   "metadata": {},
   "outputs": [
    {
     "name": "stdout",
     "output_type": "stream",
     "text": [
      "False\n",
      "False\n",
      "False\n",
      "False\n",
      "True\n",
      "False\n"
     ]
    }
   ],
   "source": [
    "#Membership operator\n",
    "x = 'Divyang Bagla'\n",
    "y = {3:'a',4:'b'}\n",
    "  \n",
    "print('V' in x)\n",
    "  \n",
    "print('D' not in x)\n",
    "\n",
    "print('DIV' in x)\n",
    "\n",
    "print('Div' not in x)\n",
    "  \n",
    "print(3 in y)\n",
    "  \n",
    "print('b' in y)"
   ]
  },
  {
   "cell_type": "markdown",
   "id": "859da181",
   "metadata": {},
   "source": [
    "### Range Function"
   ]
  },
  {
   "cell_type": "code",
   "execution_count": 31,
   "id": "5349ca12",
   "metadata": {},
   "outputs": [
    {
     "name": "stdout",
     "output_type": "stream",
     "text": [
      "0\n",
      "1\n",
      "2\n",
      "3\n",
      "4\n",
      "5\n",
      "*****\n",
      "3\n",
      "4\n",
      "5\n",
      "*****\n",
      "3\n",
      "5\n",
      "7\n",
      "9\n",
      "11\n",
      "13\n",
      "15\n",
      "17\n",
      "19\n"
     ]
    }
   ],
   "source": [
    "a = range(6)\n",
    "for i in a: \n",
    "    print(i) \n",
    "\n",
    "print('*****')\n",
    "    \n",
    "b = range(3, 6)\n",
    "for j in b:\n",
    "    print(j) \n",
    "    \n",
    "print('*****')\n",
    "\n",
    "c = range(3, 20, 2)\n",
    "for k in c:\n",
    "    print(k)"
   ]
  },
  {
   "cell_type": "markdown",
   "id": "898a8e70",
   "metadata": {},
   "source": [
    "### For and while loop"
   ]
  },
  {
   "cell_type": "code",
   "execution_count": 32,
   "id": "54b122b4",
   "metadata": {},
   "outputs": [
    {
     "name": "stdout",
     "output_type": "stream",
     "text": [
      "2\n",
      "3\n",
      "4\n",
      "5\n",
      "6\n",
      "Jan\n",
      "Feb\n",
      "Mar\n",
      "April\n",
      "May\n",
      "June\n"
     ]
    }
   ],
   "source": [
    "#FOR LOOP\n",
    "\n",
    "x=0\n",
    "for x in range(2,7):\n",
    "    print(x)\n",
    "        \n",
    "#use a for loop over a collection\n",
    "Months = [\"Jan\",\"Feb\",\"Mar\",\"April\",\"May\",\"June\"]\n",
    "for m in Months:\n",
    "    print(m)"
   ]
  },
  {
   "cell_type": "markdown",
   "id": "6118cbea",
   "metadata": {},
   "source": [
    "#### Break and Continue in For Loop"
   ]
  },
  {
   "cell_type": "code",
   "execution_count": 33,
   "id": "6ef8f501",
   "metadata": {},
   "outputs": [
    {
     "name": "stdout",
     "output_type": "stream",
     "text": [
      "11\n",
      "13\n"
     ]
    }
   ],
   "source": [
    "#use the break and continue statements\n",
    "for x in range (10,20):\n",
    "    if (x == 15): break\n",
    "    if (x % 2 == 0) : continue\n",
    "    print(x)"
   ]
  },
  {
   "cell_type": "markdown",
   "id": "7fc6cf39",
   "metadata": {},
   "source": [
    "### Python Program to display all prime numbers between 11 and 50."
   ]
  },
  {
   "cell_type": "code",
   "execution_count": 34,
   "id": "0e5e3d4a",
   "metadata": {},
   "outputs": [
    {
     "name": "stdout",
     "output_type": "stream",
     "text": [
      "11\n",
      "13\n",
      "17\n",
      "19\n",
      "23\n",
      "29\n",
      "31\n",
      "37\n",
      "41\n",
      "43\n",
      "47\n"
     ]
    }
   ],
   "source": [
    "start = 11\n",
    "end = 50\n",
    "  \n",
    "for i in range(start, end+1):\n",
    "      if i>1: #All prime numbers are greater than 1\n",
    "        for j in range(2,i):\n",
    "            if(i % j==0): #remainder zero, means not prime, hence terminate.\n",
    "                break\n",
    "        else:\n",
    "            print(i)"
   ]
  },
  {
   "cell_type": "markdown",
   "id": "28cb69eb",
   "metadata": {},
   "source": [
    "### Python program to check if a number is even or odd"
   ]
  },
  {
   "cell_type": "code",
   "execution_count": 35,
   "id": "119854aa",
   "metadata": {},
   "outputs": [
    {
     "name": "stdout",
     "output_type": "stream",
     "text": [
      "Enter a number: 11\n",
      "11 is an odd number\n"
     ]
    }
   ],
   "source": [
    "num = int(input(\"Enter a number: \"))\n",
    "\n",
    "if (num % 2) == 0:\n",
    "    print(num, \"is an even number\")\n",
    "else:\n",
    "    print(num, \"is an odd number\")"
   ]
  }
 ],
 "metadata": {
  "kernelspec": {
   "display_name": "Python 3",
   "language": "python",
   "name": "python3"
  },
  "language_info": {
   "codemirror_mode": {
    "name": "ipython",
    "version": 3
   },
   "file_extension": ".py",
   "mimetype": "text/x-python",
   "name": "python",
   "nbconvert_exporter": "python",
   "pygments_lexer": "ipython3",
   "version": "3.8.8"
  }
 },
 "nbformat": 4,
 "nbformat_minor": 5
}
