{
 "cells": [
  {
   "cell_type": "code",
   "execution_count": 1,
   "metadata": {},
   "outputs": [],
   "source": [
    "from pymongo import MongoClient"
   ]
  },
  {
   "cell_type": "code",
   "execution_count": 2,
   "metadata": {},
   "outputs": [],
   "source": [
    "client = MongoClient('localhost', 27017)\n",
    "\n",
    "# create database\n",
    "db = client.a3"
   ]
  },
  {
   "cell_type": "code",
   "execution_count": 3,
   "metadata": {},
   "outputs": [
    {
     "name": "stdout",
     "output_type": "stream",
     "text": [
      "Multiple posts: [ObjectId('611e3ff82d01e34f3d510903'), ObjectId('611e3ff82d01e34f3d510904')]\n"
     ]
    }
   ],
   "source": [
    "# create collections and insert documnets\n",
    "posts = db.posts\n",
    "post_1 = {\n",
    "    'title': 'Interstellar',\n",
    "    'genre': 'Sci-fi',\n",
    "    'director': 'Christopher Nolan'\n",
    "}\n",
    "post_2 = {\n",
    "    'title': 'Reservoir Dogs',\n",
    "    'content': 'Drama',\n",
    "    'director': 'Quentin Tarantino'\n",
    "}\n",
    "new_result = posts.insert_many([post_1, post_2])\n",
    "print('Multiple posts: {0}'.format(new_result.inserted_ids))\n"
   ]
  },
  {
   "cell_type": "code",
   "execution_count": 4,
   "metadata": {},
   "outputs": [
    {
     "data": {
      "text/plain": [
       "5"
      ]
     },
     "execution_count": 4,
     "metadata": {},
     "output_type": "execute_result"
    }
   ],
   "source": [
    "posts.count_documents({})"
   ]
  },
  {
   "cell_type": "code",
   "execution_count": 5,
   "metadata": {},
   "outputs": [
    {
     "data": {
      "text/plain": [
       "{'_id': ObjectId('611e3f45bd02ace9da94abeb'),\n",
       " 'title': 'Interstellar',\n",
       " 'genre': 'Sci-fi',\n",
       " 'director': 'Christopher Nolan'}"
      ]
     },
     "execution_count": 5,
     "metadata": {},
     "output_type": "execute_result"
    }
   ],
   "source": [
    "bills_post = posts.find_one({'title': 'Interstellar'})\n",
    "bills_post"
   ]
  },
  {
   "cell_type": "code",
   "execution_count": 6,
   "metadata": {},
   "outputs": [
    {
     "data": {
      "text/plain": [
       "<pymongo.results.UpdateResult at 0x210ffed6480>"
      ]
     },
     "execution_count": 6,
     "metadata": {},
     "output_type": "execute_result"
    }
   ],
   "source": [
    "posts.update_one({'title':'Reservoir Dogs'}, {\"$set\": {'test_value': 1000}})"
   ]
  },
  {
   "cell_type": "code",
   "execution_count": 7,
   "metadata": {},
   "outputs": [],
   "source": [
    "newMovie = [\n",
    "    { \"title\": \"Blade Runner 2049\", \"genre\": \"Sci-fi, Action\", \"director\": \"Denis Villeneuve\"},\n",
    "    {\"title\": \"Fight Club\", \"genre\": \"Action, Drama\", \"director\": \"David Fincher\"}\n",
    "]\n",
    "\n",
    "x = posts.insert_many(newMovie)"
   ]
  },
  {
   "cell_type": "code",
   "execution_count": 8,
   "metadata": {},
   "outputs": [
    {
     "name": "stdout",
     "output_type": "stream",
     "text": [
      "{'_id': ObjectId('611e3f45bd02ace9da94abeb'), 'title': 'Interstellar', 'genre': 'Sci-fi', 'director': 'Christopher Nolan'}\n",
      "{'_id': ObjectId('611e3f45bd02ace9da94abec'), 'title': 'Reservoir Dogs', 'content': 'Drama', 'director': 'Quentin Tarantino', 'test_value': 1000}\n",
      "{'_id': ObjectId('611e3f49bd02ace9da94abee'), 'title': 'Fight Club', 'genre': 'Action, Drama', 'director': 'David Fincher'}\n",
      "{'_id': ObjectId('611e3ff82d01e34f3d510903'), 'title': 'Interstellar', 'genre': 'Sci-fi', 'director': 'Christopher Nolan'}\n",
      "{'_id': ObjectId('611e3ff82d01e34f3d510904'), 'title': 'Reservoir Dogs', 'content': 'Drama', 'director': 'Quentin Tarantino'}\n",
      "{'_id': ObjectId('611e3ff82d01e34f3d510905'), 'title': 'Blade Runner 2049', 'genre': 'Sci-fi, Action', 'director': 'Denis Villeneuve'}\n",
      "{'_id': ObjectId('611e3ff82d01e34f3d510906'), 'title': 'Fight Club', 'genre': 'Action, Drama', 'director': 'David Fincher'}\n"
     ]
    }
   ],
   "source": [
    "for x in posts.find():\n",
    "  print(x)"
   ]
  },
  {
   "cell_type": "code",
   "execution_count": 9,
   "metadata": {},
   "outputs": [
    {
     "data": {
      "text/plain": [
       "<pymongo.results.DeleteResult at 0x210ffebcd00>"
      ]
     },
     "execution_count": 9,
     "metadata": {},
     "output_type": "execute_result"
    }
   ],
   "source": [
    "posts.delete_one({\"title\": \"Blade Runner 2049\"})"
   ]
  },
  {
   "cell_type": "code",
   "execution_count": 10,
   "metadata": {},
   "outputs": [
    {
     "name": "stdout",
     "output_type": "stream",
     "text": [
      "{'_id': ObjectId('611e3f45bd02ace9da94abeb'), 'title': 'Interstellar', 'genre': 'Sci-fi', 'director': 'Christopher Nolan'}\n",
      "{'_id': ObjectId('611e3f45bd02ace9da94abec'), 'title': 'Reservoir Dogs', 'content': 'Drama', 'director': 'Quentin Tarantino', 'test_value': 1000}\n",
      "{'_id': ObjectId('611e3f49bd02ace9da94abee'), 'title': 'Fight Club', 'genre': 'Action, Drama', 'director': 'David Fincher'}\n",
      "{'_id': ObjectId('611e3ff82d01e34f3d510903'), 'title': 'Interstellar', 'genre': 'Sci-fi', 'director': 'Christopher Nolan'}\n",
      "{'_id': ObjectId('611e3ff82d01e34f3d510904'), 'title': 'Reservoir Dogs', 'content': 'Drama', 'director': 'Quentin Tarantino'}\n",
      "{'_id': ObjectId('611e3ff82d01e34f3d510906'), 'title': 'Fight Club', 'genre': 'Action, Drama', 'director': 'David Fincher'}\n"
     ]
    }
   ],
   "source": [
    "for x in posts.find():\n",
    "  print(x)"
   ]
  },
  {
   "cell_type": "code",
   "execution_count": 11,
   "metadata": {},
   "outputs": [
    {
     "name": "stdout",
     "output_type": "stream",
     "text": [
      "{'_id': ObjectId('611e3f49bd02ace9da94abee'), 'title': 'Fight Club', 'genre': 'Action, Drama', 'director': 'David Fincher'}\n",
      "{'_id': ObjectId('611e3ff82d01e34f3d510906'), 'title': 'Fight Club', 'genre': 'Action, Drama', 'director': 'David Fincher'}\n",
      "{'_id': ObjectId('611e3f45bd02ace9da94abeb'), 'title': 'Interstellar', 'genre': 'Sci-fi', 'director': 'Christopher Nolan'}\n",
      "{'_id': ObjectId('611e3ff82d01e34f3d510903'), 'title': 'Interstellar', 'genre': 'Sci-fi', 'director': 'Christopher Nolan'}\n",
      "{'_id': ObjectId('611e3f45bd02ace9da94abec'), 'title': 'Reservoir Dogs', 'content': 'Drama', 'director': 'Quentin Tarantino', 'test_value': 1000}\n",
      "{'_id': ObjectId('611e3ff82d01e34f3d510904'), 'title': 'Reservoir Dogs', 'content': 'Drama', 'director': 'Quentin Tarantino'}\n"
     ]
    }
   ],
   "source": [
    "sortedMovies = posts.find().sort(\"title\")\n",
    "\n",
    "for x in sortedMovies:\n",
    "  print(x)"
   ]
  },
  {
   "cell_type": "code",
   "execution_count": 12,
   "metadata": {},
   "outputs": [],
   "source": [
    "client.close()"
   ]
  },
  {
   "cell_type": "code",
   "execution_count": null,
   "metadata": {},
   "outputs": [],
   "source": []
  }
 ],
 "metadata": {
  "kernelspec": {
   "display_name": "Python 3",
   "language": "python",
   "name": "python3"
  },
  "language_info": {
   "codemirror_mode": {
    "name": "ipython",
    "version": 3
   },
   "file_extension": ".py",
   "mimetype": "text/x-python",
   "name": "python",
   "nbconvert_exporter": "python",
   "pygments_lexer": "ipython3",
   "version": "3.8.8"
  }
 },
 "nbformat": 4,
 "nbformat_minor": 4
}
