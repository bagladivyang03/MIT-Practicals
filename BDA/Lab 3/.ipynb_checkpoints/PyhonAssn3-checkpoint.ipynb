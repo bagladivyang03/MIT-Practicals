{
 "cells": [
  {
   "cell_type": "code",
   "execution_count": 2,
   "id": "0195a7a1",
   "metadata": {},
   "outputs": [],
   "source": [
    "from pymongo import MongoClient"
   ]
  },
  {
   "cell_type": "code",
   "execution_count": 3,
   "id": "26a95bea",
   "metadata": {},
   "outputs": [],
   "source": [
    "client = MongoClient('localhost',27017)\n",
    "\n",
    "# create database\n",
    "db = client.post_data"
   ]
  },
  {
   "cell_type": "code",
   "execution_count": 4,
   "id": "caad5e7f",
   "metadata": {},
   "outputs": [
    {
     "name": "stdout",
     "output_type": "stream",
     "text": [
      "Multiple posts: [ObjectId('615802577eb95ee4480e904d'), ObjectId('615802577eb95ee4480e904e')]\n"
     ]
    }
   ],
   "source": [
    "# create collections and insert documnets\n",
    "posts = db.posts\n",
    "\n",
    "post_1 = {\n",
    "    'title': 'Interstellar',\n",
    "    'genre': 'Sci-fi',\n",
    "    'director': 'Christopher Nolan'\n",
    "}\n",
    "post_2 = {\n",
    "    'title': 'Reservoir Dogs',\n",
    "    'content': 'Drama',\n",
    "    'director': 'Quentin Tarantino'\n",
    "}\n",
    "\n",
    "new_result = posts.insert_many([post_1,post_2])\n",
    "print('Multiple posts: {0}'.format(new_result.inserted_ids))"
   ]
  },
  {
   "cell_type": "code",
   "execution_count": 5,
   "id": "7eaa5383",
   "metadata": {},
   "outputs": [
    {
     "data": {
      "text/plain": [
       "2"
      ]
     },
     "execution_count": 5,
     "metadata": {},
     "output_type": "execute_result"
    }
   ],
   "source": [
    "posts.count_documents({})"
   ]
  },
  {
   "cell_type": "code",
   "execution_count": 14,
   "id": "2a335a8d",
   "metadata": {},
   "outputs": [
    {
     "data": {
      "text/plain": [
       "{'_id': ObjectId('61574ed7a8512f71979a04e3'),\n",
       " 'title': 'Interstellar',\n",
       " 'genre': 'Sci-fi',\n",
       " 'director': 'Christopher Nolan'}"
      ]
     },
     "execution_count": 14,
     "metadata": {},
     "output_type": "execute_result"
    }
   ],
   "source": [
    "#find one \n",
    "bills_posts = posts.find_one({'title' : 'Interstellar'})\n",
    "bills_posts"
   ]
  },
  {
   "cell_type": "code",
   "execution_count": 6,
   "id": "6734ac01",
   "metadata": {},
   "outputs": [
    {
     "data": {
      "text/plain": [
       "<pymongo.results.UpdateResult at 0x2a35540ea40>"
      ]
     },
     "execution_count": 6,
     "metadata": {},
     "output_type": "execute_result"
    }
   ],
   "source": [
    "#update \n",
    "posts.update_one({'title':'Reservoir Dogs'}, {\"$set\": {'test_value': 1000}})"
   ]
  },
  {
   "cell_type": "code",
   "execution_count": 8,
   "id": "4fee1ea2",
   "metadata": {},
   "outputs": [],
   "source": [
    "#find all\n",
    "cursor = posts.find()"
   ]
  },
  {
   "cell_type": "code",
   "execution_count": 9,
   "id": "5912d92c",
   "metadata": {},
   "outputs": [
    {
     "name": "stdout",
     "output_type": "stream",
     "text": [
      "{'_id': ObjectId('615802577eb95ee4480e904d'), 'title': 'Interstellar', 'genre': 'Sci-fi', 'director': 'Christopher Nolan'}\n",
      "{'_id': ObjectId('615802577eb95ee4480e904e'), 'title': 'Reservoir Dogs', 'content': 'Drama', 'director': 'Quentin Tarantino', 'test_value': 1000}\n"
     ]
    }
   ],
   "source": [
    "for i in cursor:\n",
    "    print(i)"
   ]
  },
  {
   "cell_type": "code",
   "execution_count": 11,
   "id": "23d39169",
   "metadata": {},
   "outputs": [
    {
     "data": {
      "text/plain": [
       "<pymongo.results.InsertManyResult at 0x2a355416cc0>"
      ]
     },
     "execution_count": 11,
     "metadata": {},
     "output_type": "execute_result"
    }
   ],
   "source": [
    "newMovie = [\n",
    "    { \"title\": \"Blade Runner 2049\", \"genre\": \"Sci-fi, Action\", \"director\": \"Denis Villeneuve\"},\n",
    "    {\"title\": \"Fight Club\", \"genre\": \"Action, Drama\", \"director\": \"David Fincher\"}\n",
    "]\n",
    "\n",
    "posts.insert_many(newMovie)"
   ]
  },
  {
   "cell_type": "code",
   "execution_count": 12,
   "id": "266e6195",
   "metadata": {},
   "outputs": [
    {
     "name": "stdout",
     "output_type": "stream",
     "text": [
      "{'_id': ObjectId('615802577eb95ee4480e904d'), 'title': 'Interstellar', 'genre': 'Sci-fi', 'director': 'Christopher Nolan'}\n",
      "{'_id': ObjectId('615802577eb95ee4480e904e'), 'title': 'Reservoir Dogs', 'content': 'Drama', 'director': 'Quentin Tarantino', 'test_value': 1000}\n",
      "{'_id': ObjectId('615804287eb95ee4480e904f'), 'title': 'Blade Runner 2049', 'genre': 'Sci-fi, Action', 'director': 'Denis Villeneuve'}\n",
      "{'_id': ObjectId('615804287eb95ee4480e9050'), 'title': 'Fight Club', 'genre': 'Action, Drama', 'director': 'David Fincher'}\n"
     ]
    }
   ],
   "source": [
    "for i in posts.find():\n",
    "    print(i)"
   ]
  },
  {
   "cell_type": "code",
   "execution_count": 13,
   "id": "9f691dbe",
   "metadata": {},
   "outputs": [
    {
     "data": {
      "text/plain": [
       "<pymongo.results.DeleteResult at 0x2a3553f96c0>"
      ]
     },
     "execution_count": 13,
     "metadata": {},
     "output_type": "execute_result"
    }
   ],
   "source": [
    "# delete\n",
    "posts.delete_one({'title' : 'Blade Runner 2049' })"
   ]
  },
  {
   "cell_type": "code",
   "execution_count": 14,
   "id": "923514df",
   "metadata": {},
   "outputs": [
    {
     "name": "stdout",
     "output_type": "stream",
     "text": [
      "{'_id': ObjectId('615802577eb95ee4480e904d'), 'title': 'Interstellar', 'genre': 'Sci-fi', 'director': 'Christopher Nolan'}\n",
      "{'_id': ObjectId('615802577eb95ee4480e904e'), 'title': 'Reservoir Dogs', 'content': 'Drama', 'director': 'Quentin Tarantino', 'test_value': 1000}\n",
      "{'_id': ObjectId('615804287eb95ee4480e9050'), 'title': 'Fight Club', 'genre': 'Action, Drama', 'director': 'David Fincher'}\n"
     ]
    }
   ],
   "source": [
    "for i in posts.find():\n",
    "    print(i)"
   ]
  },
  {
   "cell_type": "code",
   "execution_count": 18,
   "id": "9ac7a7d7",
   "metadata": {},
   "outputs": [
    {
     "name": "stdout",
     "output_type": "stream",
     "text": [
      "{'_id': ObjectId('615802577eb95ee4480e904e'), 'title': 'Reservoir Dogs', 'content': 'Drama', 'director': 'Quentin Tarantino', 'test_value': 1000}\n",
      "{'_id': ObjectId('615804287eb95ee4480e9050'), 'title': 'Fight Club', 'genre': 'Action, Drama', 'director': 'David Fincher'}\n",
      "{'_id': ObjectId('615802577eb95ee4480e904d'), 'title': 'Interstellar', 'genre': 'Sci-fi', 'director': 'Christopher Nolan'}\n"
     ]
    }
   ],
   "source": [
    "#sort output\n",
    "for i in posts.find().sort(\"genre\"):\n",
    "    print(i)"
   ]
  },
  {
   "cell_type": "code",
   "execution_count": null,
   "id": "0fdd97ce",
   "metadata": {},
   "outputs": [],
   "source": []
  }
 ],
 "metadata": {
  "kernelspec": {
   "display_name": "Python 3",
   "language": "python",
   "name": "python3"
  },
  "language_info": {
   "codemirror_mode": {
    "name": "ipython",
    "version": 3
   },
   "file_extension": ".py",
   "mimetype": "text/x-python",
   "name": "python",
   "nbconvert_exporter": "python",
   "pygments_lexer": "ipython3",
   "version": "3.8.8"
  }
 },
 "nbformat": 4,
 "nbformat_minor": 5
}
